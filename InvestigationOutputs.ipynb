{
 "cells": [
  {
   "cell_type": "code",
   "execution_count": 113,
   "id": "13b5c84c-8e81-4a94-aeda-a1fc569a2446",
   "metadata": {},
   "outputs": [],
   "source": [
    "import numpy as np\n",
    "import uproot"
   ]
  },
  {
   "cell_type": "code",
   "execution_count": 114,
   "id": "89182ea4-3696-482d-9729-aa6ed6c34340",
   "metadata": {},
   "outputs": [],
   "source": [
    "all_embeddings = []\n",
    "all_labels = []\n",
    "processes = ['HToBB', 'TTBar', 'WToQQ', 'ZJetsToNuNu', 'ZToQQ']\n",
    "n_out = 8\n",
    "n_events = 5000"
   ]
  },
  {
   "cell_type": "code",
   "execution_count": 115,
   "id": "8f772116-3f2c-4c90-b107-4f5497768dea",
   "metadata": {},
   "outputs": [],
   "source": [
    "for p in processes:\n",
    "    data[p] = {}\n",
    "    d = uproot.open('/n/home03/creissel/weaver-core/trainings/ParT/20241112-124132_ParT_embedder_adamW_lr0.001_batch512ParT/predict_output/pred_{0}.root'.format(p))\n",
    "    all_embeddings.append(d['Events']['output'].array(library='np')[:n_events,])\n",
    "    all_labels.append(d['Events']['_label_'].array(library='np')[:n_events])"
   ]
  },
  {
   "cell_type": "code",
   "execution_count": 116,
   "id": "3db31ea1-b054-4ae9-8240-a613dafd0ef8",
   "metadata": {},
   "outputs": [],
   "source": [
    "embeddings = np.concatenate(all_embeddings)\n",
    "labels = np.concatenate(all_labels)"
   ]
  },
  {
   "cell_type": "code",
   "execution_count": 117,
   "id": "29967ff5-8300-4348-a4da-66fb481f6603",
   "metadata": {},
   "outputs": [
    {
     "data": {
      "text/plain": [
       "(25000, 8)"
      ]
     },
     "execution_count": 117,
     "metadata": {},
     "output_type": "execute_result"
    }
   ],
   "source": [
    "embeddings.shape"
   ]
  },
  {
   "cell_type": "code",
   "execution_count": 118,
   "id": "52e7d81d-d597-47fa-8598-7b996de35141",
   "metadata": {},
   "outputs": [
    {
     "data": {
      "text/plain": [
       "(25000,)"
      ]
     },
     "execution_count": 118,
     "metadata": {},
     "output_type": "execute_result"
    }
   ],
   "source": [
    "labels.shape"
   ]
  },
  {
   "cell_type": "code",
   "execution_count": 119,
   "id": "a6e380cd-1aa8-403a-8673-969d780eb52c",
   "metadata": {},
   "outputs": [],
   "source": [
    "import pandas as pd"
   ]
  },
  {
   "cell_type": "code",
   "execution_count": 120,
   "id": "a827f5e3-1340-4534-9af7-481f2802a5b5",
   "metadata": {},
   "outputs": [],
   "source": [
    "columns = ['dimension_'+str(i) for i in range(n_out)]\n",
    "df = pandas.DataFrame(embeddings, columns=columns)\n",
    "df['label'] = labels"
   ]
  },
  {
   "cell_type": "code",
   "execution_count": 121,
   "id": "c0d0c02a-cce8-4111-af6b-e0e8bb94b2eb",
   "metadata": {},
   "outputs": [
    {
     "data": {
      "text/html": [
       "<div>\n",
       "<style scoped>\n",
       "    .dataframe tbody tr th:only-of-type {\n",
       "        vertical-align: middle;\n",
       "    }\n",
       "\n",
       "    .dataframe tbody tr th {\n",
       "        vertical-align: top;\n",
       "    }\n",
       "\n",
       "    .dataframe thead th {\n",
       "        text-align: right;\n",
       "    }\n",
       "</style>\n",
       "<table border=\"1\" class=\"dataframe\">\n",
       "  <thead>\n",
       "    <tr style=\"text-align: right;\">\n",
       "      <th></th>\n",
       "      <th>dimension_0</th>\n",
       "      <th>dimension_1</th>\n",
       "      <th>dimension_2</th>\n",
       "      <th>dimension_3</th>\n",
       "      <th>dimension_4</th>\n",
       "      <th>dimension_5</th>\n",
       "      <th>dimension_6</th>\n",
       "      <th>dimension_7</th>\n",
       "      <th>label</th>\n",
       "    </tr>\n",
       "  </thead>\n",
       "  <tbody>\n",
       "    <tr>\n",
       "      <th>0</th>\n",
       "      <td>-0.102263</td>\n",
       "      <td>-0.114608</td>\n",
       "      <td>0.142747</td>\n",
       "      <td>0.035929</td>\n",
       "      <td>0.105415</td>\n",
       "      <td>0.392718</td>\n",
       "      <td>-0.888137</td>\n",
       "      <td>-0.024763</td>\n",
       "      <td>1</td>\n",
       "    </tr>\n",
       "    <tr>\n",
       "      <th>1</th>\n",
       "      <td>-0.025318</td>\n",
       "      <td>0.040607</td>\n",
       "      <td>0.152759</td>\n",
       "      <td>-0.048330</td>\n",
       "      <td>0.092885</td>\n",
       "      <td>0.531663</td>\n",
       "      <td>-0.823859</td>\n",
       "      <td>-0.044753</td>\n",
       "      <td>1</td>\n",
       "    </tr>\n",
       "    <tr>\n",
       "      <th>2</th>\n",
       "      <td>-0.147899</td>\n",
       "      <td>-0.081598</td>\n",
       "      <td>0.135518</td>\n",
       "      <td>0.117877</td>\n",
       "      <td>0.084304</td>\n",
       "      <td>0.385824</td>\n",
       "      <td>-0.880223</td>\n",
       "      <td>-0.091909</td>\n",
       "      <td>1</td>\n",
       "    </tr>\n",
       "    <tr>\n",
       "      <th>3</th>\n",
       "      <td>-0.093333</td>\n",
       "      <td>-0.184924</td>\n",
       "      <td>0.090508</td>\n",
       "      <td>0.086844</td>\n",
       "      <td>0.014611</td>\n",
       "      <td>0.263944</td>\n",
       "      <td>-0.925560</td>\n",
       "      <td>-0.121726</td>\n",
       "      <td>1</td>\n",
       "    </tr>\n",
       "    <tr>\n",
       "      <th>4</th>\n",
       "      <td>-0.105472</td>\n",
       "      <td>-0.011633</td>\n",
       "      <td>0.146265</td>\n",
       "      <td>0.060833</td>\n",
       "      <td>0.089451</td>\n",
       "      <td>0.463686</td>\n",
       "      <td>-0.856632</td>\n",
       "      <td>-0.082598</td>\n",
       "      <td>1</td>\n",
       "    </tr>\n",
       "    <tr>\n",
       "      <th>...</th>\n",
       "      <td>...</td>\n",
       "      <td>...</td>\n",
       "      <td>...</td>\n",
       "      <td>...</td>\n",
       "      <td>...</td>\n",
       "      <td>...</td>\n",
       "      <td>...</td>\n",
       "      <td>...</td>\n",
       "      <td>...</td>\n",
       "    </tr>\n",
       "    <tr>\n",
       "      <th>24995</th>\n",
       "      <td>-0.132930</td>\n",
       "      <td>-0.166823</td>\n",
       "      <td>0.116738</td>\n",
       "      <td>0.104600</td>\n",
       "      <td>0.065456</td>\n",
       "      <td>0.304415</td>\n",
       "      <td>-0.909109</td>\n",
       "      <td>-0.080615</td>\n",
       "      <td>6</td>\n",
       "    </tr>\n",
       "    <tr>\n",
       "      <th>24996</th>\n",
       "      <td>-0.125162</td>\n",
       "      <td>-0.186409</td>\n",
       "      <td>0.097422</td>\n",
       "      <td>0.118458</td>\n",
       "      <td>0.031025</td>\n",
       "      <td>0.261642</td>\n",
       "      <td>-0.918174</td>\n",
       "      <td>-0.116624</td>\n",
       "      <td>6</td>\n",
       "    </tr>\n",
       "    <tr>\n",
       "      <th>24997</th>\n",
       "      <td>-0.084340</td>\n",
       "      <td>-0.167335</td>\n",
       "      <td>0.123116</td>\n",
       "      <td>0.028724</td>\n",
       "      <td>0.076553</td>\n",
       "      <td>0.332962</td>\n",
       "      <td>-0.911494</td>\n",
       "      <td>-0.036847</td>\n",
       "      <td>6</td>\n",
       "    </tr>\n",
       "    <tr>\n",
       "      <th>24998</th>\n",
       "      <td>0.127540</td>\n",
       "      <td>-0.134093</td>\n",
       "      <td>0.010258</td>\n",
       "      <td>-0.083457</td>\n",
       "      <td>-0.157955</td>\n",
       "      <td>0.232251</td>\n",
       "      <td>-0.906674</td>\n",
       "      <td>-0.240281</td>\n",
       "      <td>6</td>\n",
       "    </tr>\n",
       "    <tr>\n",
       "      <th>24999</th>\n",
       "      <td>0.122790</td>\n",
       "      <td>-0.136452</td>\n",
       "      <td>0.019124</td>\n",
       "      <td>-0.090266</td>\n",
       "      <td>-0.140728</td>\n",
       "      <td>0.245608</td>\n",
       "      <td>-0.910745</td>\n",
       "      <td>-0.219558</td>\n",
       "      <td>6</td>\n",
       "    </tr>\n",
       "  </tbody>\n",
       "</table>\n",
       "<p>25000 rows × 9 columns</p>\n",
       "</div>"
      ],
      "text/plain": [
       "       dimension_0  dimension_1  dimension_2  dimension_3  dimension_4  \\\n",
       "0        -0.102263    -0.114608     0.142747     0.035929     0.105415   \n",
       "1        -0.025318     0.040607     0.152759    -0.048330     0.092885   \n",
       "2        -0.147899    -0.081598     0.135518     0.117877     0.084304   \n",
       "3        -0.093333    -0.184924     0.090508     0.086844     0.014611   \n",
       "4        -0.105472    -0.011633     0.146265     0.060833     0.089451   \n",
       "...            ...          ...          ...          ...          ...   \n",
       "24995    -0.132930    -0.166823     0.116738     0.104600     0.065456   \n",
       "24996    -0.125162    -0.186409     0.097422     0.118458     0.031025   \n",
       "24997    -0.084340    -0.167335     0.123116     0.028724     0.076553   \n",
       "24998     0.127540    -0.134093     0.010258    -0.083457    -0.157955   \n",
       "24999     0.122790    -0.136452     0.019124    -0.090266    -0.140728   \n",
       "\n",
       "       dimension_5  dimension_6  dimension_7  label  \n",
       "0         0.392718    -0.888137    -0.024763      1  \n",
       "1         0.531663    -0.823859    -0.044753      1  \n",
       "2         0.385824    -0.880223    -0.091909      1  \n",
       "3         0.263944    -0.925560    -0.121726      1  \n",
       "4         0.463686    -0.856632    -0.082598      1  \n",
       "...            ...          ...          ...    ...  \n",
       "24995     0.304415    -0.909109    -0.080615      6  \n",
       "24996     0.261642    -0.918174    -0.116624      6  \n",
       "24997     0.332962    -0.911494    -0.036847      6  \n",
       "24998     0.232251    -0.906674    -0.240281      6  \n",
       "24999     0.245608    -0.910745    -0.219558      6  \n",
       "\n",
       "[25000 rows x 9 columns]"
      ]
     },
     "execution_count": 121,
     "metadata": {},
     "output_type": "execute_result"
    }
   ],
   "source": [
    "df"
   ]
  },
  {
   "cell_type": "code",
   "execution_count": 122,
   "id": "9ad69ea9-a7a4-4371-874a-925df1568248",
   "metadata": {},
   "outputs": [],
   "source": [
    "df.to_csv('/n/home03/creissel/weaver-core/trainings/ParT/20241112-124132_ParT_embedder_adamW_lr0.001_batch512ParT/predict_output/df.csv')"
   ]
  },
  {
   "cell_type": "code",
   "execution_count": 123,
   "id": "4451bf14-9885-4d81-a678-ad5b62410f38",
   "metadata": {},
   "outputs": [
    {
     "data": {
      "text/plain": [
       "array([1, 1, 1, ..., 6, 6, 6])"
      ]
     },
     "execution_count": 123,
     "metadata": {},
     "output_type": "execute_result"
    }
   ],
   "source": [
    "labels"
   ]
  },
  {
   "cell_type": "markdown",
   "id": "940b1f6d-60cb-4d55-857c-75a126c8198e",
   "metadata": {},
   "source": [
    "- 1: HToBB\n",
    "- 7: WToQQ\n",
    "- 0: ZJetsToNuNu (QCD)\n",
    "- 8: TTBar\n",
    "- 6: ZToQQ"
   ]
  },
  {
   "cell_type": "code",
   "execution_count": null,
   "id": "d48121b0-3750-491d-8743-5525a3d3c54d",
   "metadata": {},
   "outputs": [],
   "source": []
  }
 ],
 "metadata": {
  "kernelspec": {
   "display_name": "Python [conda env:miniforge3-weaver]",
   "language": "python",
   "name": "conda-env-miniforge3-weaver-py"
  },
  "language_info": {
   "codemirror_mode": {
    "name": "ipython",
    "version": 3
   },
   "file_extension": ".py",
   "mimetype": "text/x-python",
   "name": "python",
   "nbconvert_exporter": "python",
   "pygments_lexer": "ipython3",
   "version": "3.10.15"
  }
 },
 "nbformat": 4,
 "nbformat_minor": 5
}
